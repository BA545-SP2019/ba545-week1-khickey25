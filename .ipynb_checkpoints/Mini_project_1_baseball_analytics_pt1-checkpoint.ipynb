{
 "cells": [
  {
   "cell_type": "markdown",
   "metadata": {},
   "source": [
    "# Mini Project #1: Baseball Analytics\n",
    "\n",
    "The overall purpose of this mini-project is to predicting MLB wins per season by modeling data to KMeans clustering model and linear regression models."
   ]
  },
  {
   "cell_type": "markdown",
   "metadata": {},
   "source": [
    "## Part 1: Data Import and Handling\n",
    "\n",
    "In this tutorial, you’ll see how you can easily load in data from a database with `sqlite3`, how you can explore your data and improve its data quality with pandas and matplotlib, and how you can then use the `Scikit-Learn` package to extract some valid insights out of your data.\n",
    "\n",
    "You will read in the data by querying a `sqlite` database using the sqlite3 package and converting to a DataFrame with pandas. Your data will be filtered to only include currently active modern teams and only years where the team played `150` or more games.\n",
    "\n",
    "### Import Data"
   ]
  },
  {
   "cell_type": "code",
   "execution_count": 1,
   "metadata": {
    "collapsed": true
   },
   "outputs": [
    {
     "name": "stdout",
     "output_type": "stream",
     "text": [
      "/home/jupyter-khickey/BA545-data/ba545-week1-khickey25\n"
     ]
    }
   ],
   "source": [
    "# importing pandas and sqlite3 packages\n",
    "import pandas as pd\n",
    "import sqlite3\n",
    "%load_ext sql\n",
    "! pwd"
   ]
  },
  {
   "cell_type": "code",
   "execution_count": 2,
   "metadata": {
    "collapsed": true
   },
   "outputs": [],
   "source": [
    "#connecting the sqlite database to the notebook\n",
    "conn = sqlite3.connect(\"../lahman2016.sqlite\")"
   ]
  },
  {
   "cell_type": "code",
   "execution_count": 3,
   "metadata": {},
   "outputs": [],
   "source": [
    "## I had some difficulty downloading the SQL data, so Dr. Huntley and I created this code that worked.\n",
    "## I then corrected my original error, but will keep this code below just as reference\n",
    "\n",
    "#%%sql sqlite:///../lahman2016.sqlite\n",
    "#SELECT * FROM Teams JOIN TeamsFranchises USING (franchID) \n",
    "#WHERE Teams.G >= 150 and TeamsFranchises.active== 'Y'  LIMIT 10;"
   ]
  },
  {
   "cell_type": "code",
   "execution_count": 4,
   "metadata": {
    "collapsed": true
   },
   "outputs": [],
   "source": [
    "#Writing the SQL query to select the teams which have played more than 150 games and are still active\n",
    "query = '''select * from Teams\n",
    "    inner join TeamsFranchises on Teams.franchID == TeamsFranchises.franchID\n",
    "    where Teams.G >= 150 and TeamsFranchises.active== 'Y';  '''\n",
    "\n",
    "#Executing the query \n",
    "teams = conn.execute(query).fetchall()"
   ]
  },
  {
   "cell_type": "code",
   "execution_count": 5,
   "metadata": {
    "collapsed": true
   },
   "outputs": [
    {
     "name": "stdout",
     "output_type": "stream",
     "text": [
      "     0   1    2    3     4   5    6     7   8   9   ...        42   43   44  \\\n",
      "0  1961  AL  LAA  ANA  None   8  162  82.0  70  91  ...    603510  111  112   \n",
      "1  1962  AL  LAA  ANA  None   3  162  81.0  86  76  ...   1144063   97   97   \n",
      "2  1963  AL  LAA  ANA  None   9  161  81.0  70  91  ...    821015   94   94   \n",
      "3  1964  AL  LAA  ANA  None   5  162  81.0  82  80  ...    760439   90   90   \n",
      "4  1965  AL  CAL  ANA  None   7  162  80.0  75  87  ...    566727   97   98   \n",
      "5  1966  AL  CAL  ANA  None   6  162  81.0  80  82  ...   1400321   97   97   \n",
      "6  1967  AL  CAL  ANA  None   5  161  83.0  84  77  ...   1317713   95   96   \n",
      "7  1968  AL  CAL  ANA  None   8  162  81.0  67  95  ...   1025956   95   97   \n",
      "8  1969  AL  CAL  ANA     W   3  163  81.0  71  91  ...    758388   94   95   \n",
      "9  1970  AL  CAL  ANA     W   3  162  81.0  86  76  ...   1077741   96   97   \n",
      "\n",
      "    45   46   47   48                             49  50    51  \n",
      "0  LAA  LAA  LAA  ANA  Los Angeles Angels of Anaheim   Y  None  \n",
      "1  LAA  LAA  LAA  ANA  Los Angeles Angels of Anaheim   Y  None  \n",
      "2  LAA  LAA  LAA  ANA  Los Angeles Angels of Anaheim   Y  None  \n",
      "3  LAA  LAA  LAA  ANA  Los Angeles Angels of Anaheim   Y  None  \n",
      "4  CAL  CAL  CAL  ANA  Los Angeles Angels of Anaheim   Y  None  \n",
      "5  CAL  CAL  CAL  ANA  Los Angeles Angels of Anaheim   Y  None  \n",
      "6  CAL  CAL  CAL  ANA  Los Angeles Angels of Anaheim   Y  None  \n",
      "7  CAL  CAL  CAL  ANA  Los Angeles Angels of Anaheim   Y  None  \n",
      "8  CAL  CAL  CAL  ANA  Los Angeles Angels of Anaheim   Y  None  \n",
      "9  CAL  CAL  CAL  ANA  Los Angeles Angels of Anaheim   Y  None  \n",
      "\n",
      "[10 rows x 52 columns]\n"
     ]
    }
   ],
   "source": [
    "# Converting the result into a Pandas dataframe \n",
    "#### Complete the code block below\n",
    "#### create a df called `df_Teams' and from the data `Teams`\n",
    "df_teams = pd.DataFrame(teams)\n",
    "#### display the first 10 rows of `df_Teams`\n",
    "print(df_teams.head(10))"
   ]
  },
  {
   "cell_type": "markdown",
   "metadata": {},
   "source": [
    "This is the standard process of reading data from a database (`sqlite`) to a `pandas` dataframe. \n",
    "\n",
    "Please note that it is a common practice reading data from enterprise systems - so please familiarize yourselves with this part."
   ]
  },
  {
   "cell_type": "markdown",
   "metadata": {},
   "source": [
    "### Data Cleaning\n",
    "\n",
    "Prior to assessing the data quality, let’s first eliminate the columns that aren’t necessary or are derived from the target column (`Wins`). This is where knowledge of the data you are working with starts to become very valuable.\n",
    "\n",
    "You should have noted that our dataframe (`df_Teams`) has no column names. Let's first define the column names."
   ]
  },
  {
   "cell_type": "code",
   "execution_count": 6,
   "metadata": {},
   "outputs": [
    {
     "name": "stdout",
     "output_type": "stream",
     "text": [
      "RangeIndex(start=0, stop=52, step=1)\n"
     ]
    }
   ],
   "source": [
    "print(df_teams.columns)"
   ]
  },
  {
   "cell_type": "code",
   "execution_count": 7,
   "metadata": {
    "collapsed": true
   },
   "outputs": [
    {
     "name": "stdout",
     "output_type": "stream",
     "text": [
      "   yearID lgID teamID  franchID divID  Rank    G  Ghome   W   L   ...     \\\n",
      "0    1961   AL    LAA       ANA  None     8  162   82.0  70  91   ...      \n",
      "1    1962   AL    LAA       ANA  None     3  162   81.0  86  76   ...      \n",
      "2    1963   AL    LAA       ANA  None     9  161   81.0  70  91   ...      \n",
      "3    1964   AL    LAA       ANA  None     5  162   81.0  82  80   ...      \n",
      "4    1965   AL    CAL       ANA  None     7  162   80.0  75  87   ...      \n",
      "\n",
      "  attendance  BPF  PPF teamIDBR  teamIDlahman45  teamIDretro  franchID  \\\n",
      "0     603510  111  112      LAA             LAA          LAA       ANA   \n",
      "1    1144063   97   97      LAA             LAA          LAA       ANA   \n",
      "2     821015   94   94      LAA             LAA          LAA       ANA   \n",
      "3     760439   90   90      LAA             LAA          LAA       ANA   \n",
      "4     566727   97   98      CAL             CAL          CAL       ANA   \n",
      "\n",
      "                      franchName  active  NAassoc  \n",
      "0  Los Angeles Angels of Anaheim       Y     None  \n",
      "1  Los Angeles Angels of Anaheim       Y     None  \n",
      "2  Los Angeles Angels of Anaheim       Y     None  \n",
      "3  Los Angeles Angels of Anaheim       Y     None  \n",
      "4  Los Angeles Angels of Anaheim       Y     None  \n",
      "\n",
      "[5 rows x 52 columns]\n"
     ]
    }
   ],
   "source": [
    "# Adding column names to dataframe\n",
    "cols = ['yearID','lgID','teamID','franchID','divID','Rank','G','Ghome','W','L','DivWin','WCWin','LgWin','WSWin',\n",
    "        'R','AB','H','2B','3B','HR','BB','SO','SB','CS','HBP','SF','RA','ER','ERA','CG','SHO','SV','IPouts','HA',\n",
    "        'HRA','BBA','SOA','E','DP','FP','name','park','attendance','BPF','PPF','teamIDBR','teamIDlahman45',\n",
    "        'teamIDretro','franchID','franchName','active','NAassoc']\n",
    "\n",
    "#### Complete your code below\n",
    "#### define columns of `df_Teams` to `cols`\n",
    "df_teams.columns = cols\n",
    "\n",
    "#### display the first 5 rows of `df_Teams` \n",
    "#### you should see 52 columns\n",
    "print(df_teams.head())"
   ]
  },
  {
   "cell_type": "markdown",
   "metadata": {},
   "source": [
    "Some of the columns are not as useful as the others. So that we are going to delete them.\n",
    "\n",
    "__Note__: what we are doing right now is part of __feature selection__, we have multiple ways of feature selection."
   ]
  },
  {
   "cell_type": "code",
   "execution_count": 8,
   "metadata": {
    "collapsed": true
   },
   "outputs": [
    {
     "name": "stdout",
     "output_type": "stream",
     "text": [
      "   yearID teamID    G   W    R    AB     H   2B  3B   HR  ...    SHO  SV  \\\n",
      "0    1961    LAA  162  70  744  5424  1331  218  22  189  ...      5  34   \n",
      "1    1962    LAA  162  86  718  5499  1377  232  35  137  ...     15  47   \n",
      "2    1963    LAA  161  70  597  5506  1378  208  38   95  ...     13  31   \n",
      "3    1964    LAA  162  82  544  5362  1297  186  27  102  ...     28  41   \n",
      "4    1965    CAL  162  75  527  5354  1279  200  36   92  ...     14  33   \n",
      "\n",
      "   IPouts    HA  HRA  BBA  SOA    E     DP     FP  \n",
      "0    4314  1391  180  713  973  192  154.0  0.969  \n",
      "1    4398  1412  118  616  858  175  153.0  0.972  \n",
      "2    4365  1317  120  578  889  163  155.0  0.974  \n",
      "3    4350  1273  100  530  965  138  168.0  0.978  \n",
      "4    4323  1259   91  563  847  123  149.0  0.981  \n",
      "\n",
      "[5 rows x 29 columns]\n",
      "(2287, 29)\n"
     ]
    }
   ],
   "source": [
    "# Dropping your unnecesary column variables.\n",
    "drop_cols = ['lgID','franchID','divID','Rank','Ghome','L','DivWin','WCWin','LgWin','WSWin','SF','name','park',\n",
    "             'attendance','BPF','PPF','teamIDBR','teamIDlahman45','teamIDretro','franchID','franchName','active',\n",
    "             'NAassoc']\n",
    "\n",
    "#### drop columns contained in `drop_cols` from `df_Teams`\n",
    "#### and save the remaining columns as `df`\n",
    "df = df_teams.drop(drop_cols, axis=1)\n",
    "\n",
    "\n",
    "#### make sure that these columns are deleted by looking at the first 5 rows of `df`\n",
    "#### you should see only 29 columns\n",
    "print(df.head(5))\n",
    "print(df.shape)\n"
   ]
  },
  {
   "cell_type": "code",
   "execution_count": 9,
   "metadata": {},
   "outputs": [
    {
     "name": "stdout",
     "output_type": "stream",
     "text": [
      "0    70\n",
      "1    86\n",
      "2    70\n",
      "3    82\n",
      "4    75\n",
      "Name: W, dtype: int64\n"
     ]
    }
   ],
   "source": [
    "print(df['W'].head())"
   ]
  },
  {
   "cell_type": "markdown",
   "metadata": {},
   "source": [
    "### Handling Missing Values\n",
    "\n",
    "`2` of the columns have a relatively small amount of null values. There are `110` null values in the `SO` (Strike Outs) column and `22` in the DP (Double Play) column. Two of the columns have a relatively large amount of them. There are `419` null values in the `CS` (Caught Stealing) column and `1777` in the `HBP` (Hit by Pitch) column."
   ]
  },
  {
   "cell_type": "code",
   "execution_count": 15,
   "metadata": {
    "collapsed": true
   },
   "outputs": [
    {
     "name": "stdout",
     "output_type": "stream",
     "text": [
      "yearID 0\n",
      "teamID 0\n",
      "G 0\n",
      "W 0\n",
      "R 0\n",
      "AB 0\n",
      "H 0\n",
      "2B 0\n",
      "3B 0\n",
      "HR 0\n",
      "BB 0\n",
      "SO 110\n",
      "SB 0\n",
      "CS 419\n",
      "HBP 1777\n",
      "RA 0\n",
      "ER 0\n",
      "ERA 0\n",
      "CG 0\n",
      "SHO 0\n",
      "SV 0\n",
      "IPouts 0\n",
      "HA 0\n",
      "HRA 0\n",
      "BBA 0\n",
      "SOA 0\n",
      "E 0\n",
      "DP 22\n",
      "FP 0\n"
     ]
    }
   ],
   "source": [
    "#Identifying the number of null values in the dataframe\n",
    "# Creating a for loop to display the column names and also their count of missing values \n",
    "\n",
    "#### complete the code below\n",
    "#### create an empty list named `names` for columns names\n",
    "names=[]\n",
    "\n",
    "#### create an empty list named `val` for # of null values in each column\n",
    "val= []\n",
    "\n",
    "\n",
    "#### create a for loop iterating each `col` through `df.columns`\n",
    "for col in df.columns:\n",
    "\n",
    "    #### add column name `col` to `names`\n",
    "    names.append(col)\n",
    "    #### add # of null values to `val`\n",
    "    #### you can get # of null values for column `c` as `df[c].isnull().sum()`\n",
    "    val.append(df[col].isnull().sum()) \n",
    "    #### print out results as (column_name, # of null values in column_name)\n",
    "    #### Note that `col` is the current column_name in iteration\n",
    "    #### and you should retrieve the # of null values in column_name as the last element in `val`\n",
    "    #### hint: the last element in a list l is: l[-1]\n",
    "    print(names[-1], val[-1])\n"
   ]
  },
  {
   "cell_type": "markdown",
   "metadata": {},
   "source": [
    "We are going to drop two columns (`CS` and `HBP`) with too many missing values.\n",
    "\n",
    "__NOTE__: even though we said that dropping columns with missing values is the __last resort__, the reason we are dropping the columns here is that because of the number of missing values, it will be very difficult for us to impute them in these two columns."
   ]
  },
  {
   "cell_type": "code",
   "execution_count": 9,
   "metadata": {
    "collapsed": true
   },
   "outputs": [
    {
     "name": "stdout",
     "output_type": "stream",
     "text": [
      "   yearID teamID    G   W    R    AB     H   2B  3B   HR  ...    SHO  SV  \\\n",
      "0    1961    LAA  162  70  744  5424  1331  218  22  189  ...      5  34   \n",
      "1    1962    LAA  162  86  718  5499  1377  232  35  137  ...     15  47   \n",
      "2    1963    LAA  161  70  597  5506  1378  208  38   95  ...     13  31   \n",
      "3    1964    LAA  162  82  544  5362  1297  186  27  102  ...     28  41   \n",
      "4    1965    CAL  162  75  527  5354  1279  200  36   92  ...     14  33   \n",
      "\n",
      "   IPouts    HA  HRA  BBA  SOA    E     DP     FP  \n",
      "0    4314  1391  180  713  973  192  154.0  0.969  \n",
      "1    4398  1412  118  616  858  175  153.0  0.972  \n",
      "2    4365  1317  120  578  889  163  155.0  0.974  \n",
      "3    4350  1273  100  530  965  138  168.0  0.978  \n",
      "4    4323  1259   91  563  847  123  149.0  0.981  \n",
      "\n",
      "[5 rows x 27 columns]\n"
     ]
    }
   ],
   "source": [
    "#Dropping the columns with large number of null values\n",
    "\n",
    "\n",
    "#### drop `CS` & `HBP` from `df`\n",
    "#### and save the remaining as `df`\n",
    "df = df.drop(labels =['CS', 'HBP'], axis=1)\n",
    "\n",
    "\n",
    "#### check the first 5 rows of the new `df` to see \n",
    "#### if the two columns are successfully dropped\n",
    "#### you should expect to see 27 columns now\n",
    "print(df.head(5))\n"
   ]
  },
  {
   "cell_type": "markdown",
   "metadata": {},
   "source": [
    "With the two columns dropped, we can impute the missing values in the other two columns (`SO` and `DP`) since they have much less.\n",
    "\n",
    "### Impute Missing Values\n",
    "\n",
    "As a design decision, we decide to use `median` instead of `mean` to impute the missing values. Use the block below to answer __why we made that decision__."
   ]
  },
  {
   "cell_type": "markdown",
   "metadata": {},
   "source": [
    "## Double click and type your answer here__."
   ]
  },
  {
   "cell_type": "code",
   "execution_count": 18,
   "metadata": {
    "collapsed": true
   },
   "outputs": [
    {
     "name": "stdout",
     "output_type": "stream",
     "text": [
      "yearID    0\n",
      "teamID    0\n",
      "G         0\n",
      "W         0\n",
      "R         0\n",
      "AB        0\n",
      "H         0\n",
      "2B        0\n",
      "3B        0\n",
      "HR        0\n",
      "BB        0\n",
      "SO        0\n",
      "SB        0\n",
      "CS        0\n",
      "HBP       0\n",
      "RA        0\n",
      "ER        0\n",
      "ERA       0\n",
      "CG        0\n",
      "SHO       0\n",
      "SV        0\n",
      "IPouts    0\n",
      "HA        0\n",
      "HRA       0\n",
      "BBA       0\n",
      "SOA       0\n",
      "E         0\n",
      "DP        0\n",
      "FP        0\n",
      "dtype: int64\n"
     ]
    }
   ],
   "source": [
    "# Filling the missing values with the median of their respective column values\n",
    "#### complete your code below\n",
    "#### you can impute the missing values in a column using the `fillna()` function provided by `pandas`\n",
    "#### fillna() works as `df[col].fillna(some_value)`, in this case the value is `df[col].median()`\n",
    "#### NOTE that `col` above is the name of the column you want to impute\n",
    "df = df.fillna(value=df.median)\n",
    "\n",
    "\n",
    "#### Double-check if the null values are filled\n",
    "#### you should see `0`s for all columns \n",
    "print(df.isnull().sum())"
   ]
  },
  {
   "cell_type": "markdown",
   "metadata": {},
   "source": [
    "There is an easier way of checking null values in a dataframe. You can use either way based on your preference."
   ]
  },
  {
   "cell_type": "code",
   "execution_count": 32,
   "metadata": {
    "collapsed": true
   },
   "outputs": [
    {
     "name": "stdout",
     "output_type": "stream",
     "text": [
      "[0, 0, 0, 0, 0, 0, 0, 0, 0, 0, 0, 0, 0, 0, 0, 0, 0, 0, 0, 0, 0, 0, 0, 0, 0, 0, 0, 0, 0, 0]\n"
     ]
    }
   ],
   "source": [
    "# Again checking for null values \n",
    "# if see any value which is not `0` that means you still have null values in your data\n",
    "# in this case we are fine\n",
    "print(df.isnull().sum(axis=0).tolist())"
   ]
  },
  {
   "cell_type": "markdown",
   "metadata": {},
   "source": [
    "### Exploring and Visualizing The Data\n",
    "\n",
    "Exploring your data using different types of visualizations is always a good practice when doing EDA.\n",
    "\n",
    "You’ll start by plotting a histogram of the target column (`W`) so you can see the distribution of wins."
   ]
  },
  {
   "cell_type": "code",
   "execution_count": 20,
   "metadata": {
    "collapsed": true
   },
   "outputs": [],
   "source": [
    "#importing matplotlib\n",
    "\n",
    "import matplotlib.pyplot as plt\n",
    "%matplotlib inline\n",
    "\n",
    "#### the statement below ask matplotlib to use the 'ggplot' style\n",
    "#### you should consider using that\n",
    "plt.style.use('ggplot')"
   ]
  },
  {
   "cell_type": "code",
   "execution_count": 33,
   "metadata": {
    "collapsed": true
   },
   "outputs": [
    {
     "data": {
      "image/png": "[encoded data removed]",
      "text/plain": [
       "<Figure size 432x288 with 1 Axes>"
      ]
     },
     "metadata": {},
     "output_type": "display_data"
    }
   ],
   "source": [
    "#### Complete your code below\n",
    "#### create a histogram `hist()` over the column `df['W']`\n",
    "df.hist(column='W')\n",
    "\n",
    "#### adding elements to your visualization to increase the readability\n",
    "#### you should always have title and axis name(s) in your visualization\n",
    "#### name your x-axis label as `Wins`\n",
    "plt.xlabel('Wins')\n",
    "\n",
    "\n",
    "#### name your visualization title as `Distribution of Wins`\n",
    "plt.title('Distribution of Wins')\n",
    "\n",
    "#### show your visualization\n",
    "plt.show()"
   ]
  },
  {
   "cell_type": "code",
   "execution_count": 22,
   "metadata": {
    "collapsed": true
   },
   "outputs": [
    {
     "name": "stdout",
     "output_type": "stream",
     "text": [
      "count    2287.000000\n",
      "mean       79.230433\n",
      "std        13.045240\n",
      "min        36.000000\n",
      "25%        70.000000\n",
      "50%        80.000000\n",
      "75%        89.000000\n",
      "max       116.000000\n",
      "Name: W, dtype: float64\n"
     ]
    }
   ],
   "source": [
    "#### We can also check the descriptive stats of `df['W']` using `.describe()`\n",
    "print(df['W'].describe())"
   ]
  },
  {
   "cell_type": "markdown",
   "metadata": {},
   "source": [
    "You should already know that `df['W']` is a __continuous__ field. \n",
    "\n",
    "__Answer this question__: When the target variable is continuous, what type of analysis are we doing (select from classification/clustering/regression), and why? __Use the block below to answer__."
   ]
  },
  {
   "cell_type": "markdown",
   "metadata": {},
   "source": [
    "__Answer: We are doing regression analysis, because wins is a continuous field; regression analysis requires a continuous fild__."
   ]
  },
  {
   "cell_type": "markdown",
   "metadata": {},
   "source": [
    "One way to convert a continuous variable to categorical is through binning. You can bin your continuous variable using its distribution, any external knowledge, or some other logical reasons. But __be sure to include your reason in your analytical report__."
   ]
  },
  {
   "cell_type": "code",
   "execution_count": 23,
   "metadata": {
    "collapsed": true
   },
   "outputs": [
    {
     "data": {
      "text/html": [
       "<div>\n",
       "<style scoped>\n",
       "    .dataframe tbody tr th:only-of-type {\n",
       "        vertical-align: middle;\n",
       "    }\n",
       "\n",
       "    .dataframe tbody tr th {\n",
       "        vertical-align: top;\n",
       "    }\n",
       "\n",
       "    .dataframe thead th {\n",
       "        text-align: right;\n",
       "    }\n",
       "</style>\n",
       "<table border=\"1\" class=\"dataframe\">\n",
       "  <thead>\n",
       "    <tr style=\"text-align: right;\">\n",
       "      <th></th>\n",
       "      <th>yearID</th>\n",
       "      <th>teamID</th>\n",
       "      <th>G</th>\n",
       "      <th>W</th>\n",
       "      <th>R</th>\n",
       "      <th>AB</th>\n",
       "      <th>H</th>\n",
       "      <th>2B</th>\n",
       "      <th>3B</th>\n",
       "      <th>HR</th>\n",
       "      <th>...</th>\n",
       "      <th>SV</th>\n",
       "      <th>IPouts</th>\n",
       "      <th>HA</th>\n",
       "      <th>HRA</th>\n",
       "      <th>BBA</th>\n",
       "      <th>SOA</th>\n",
       "      <th>E</th>\n",
       "      <th>DP</th>\n",
       "      <th>FP</th>\n",
       "      <th>Win_bins</th>\n",
       "    </tr>\n",
       "  </thead>\n",
       "  <tbody>\n",
       "    <tr>\n",
       "      <th>0</th>\n",
       "      <td>1961</td>\n",
       "      <td>LAA</td>\n",
       "      <td>162</td>\n",
       "      <td>70</td>\n",
       "      <td>744</td>\n",
       "      <td>5424</td>\n",
       "      <td>1331</td>\n",
       "      <td>218</td>\n",
       "      <td>22</td>\n",
       "      <td>189</td>\n",
       "      <td>...</td>\n",
       "      <td>34</td>\n",
       "      <td>4314</td>\n",
       "      <td>1391</td>\n",
       "      <td>180</td>\n",
       "      <td>713</td>\n",
       "      <td>973</td>\n",
       "      <td>192</td>\n",
       "      <td>154</td>\n",
       "      <td>0.969</td>\n",
       "      <td>3</td>\n",
       "    </tr>\n",
       "    <tr>\n",
       "      <th>1</th>\n",
       "      <td>1962</td>\n",
       "      <td>LAA</td>\n",
       "      <td>162</td>\n",
       "      <td>86</td>\n",
       "      <td>718</td>\n",
       "      <td>5499</td>\n",
       "      <td>1377</td>\n",
       "      <td>232</td>\n",
       "      <td>35</td>\n",
       "      <td>137</td>\n",
       "      <td>...</td>\n",
       "      <td>47</td>\n",
       "      <td>4398</td>\n",
       "      <td>1412</td>\n",
       "      <td>118</td>\n",
       "      <td>616</td>\n",
       "      <td>858</td>\n",
       "      <td>175</td>\n",
       "      <td>153</td>\n",
       "      <td>0.972</td>\n",
       "      <td>3</td>\n",
       "    </tr>\n",
       "    <tr>\n",
       "      <th>2</th>\n",
       "      <td>1963</td>\n",
       "      <td>LAA</td>\n",
       "      <td>161</td>\n",
       "      <td>70</td>\n",
       "      <td>597</td>\n",
       "      <td>5506</td>\n",
       "      <td>1378</td>\n",
       "      <td>208</td>\n",
       "      <td>38</td>\n",
       "      <td>95</td>\n",
       "      <td>...</td>\n",
       "      <td>31</td>\n",
       "      <td>4365</td>\n",
       "      <td>1317</td>\n",
       "      <td>120</td>\n",
       "      <td>578</td>\n",
       "      <td>889</td>\n",
       "      <td>163</td>\n",
       "      <td>155</td>\n",
       "      <td>0.974</td>\n",
       "      <td>3</td>\n",
       "    </tr>\n",
       "    <tr>\n",
       "      <th>3</th>\n",
       "      <td>1964</td>\n",
       "      <td>LAA</td>\n",
       "      <td>162</td>\n",
       "      <td>82</td>\n",
       "      <td>544</td>\n",
       "      <td>5362</td>\n",
       "      <td>1297</td>\n",
       "      <td>186</td>\n",
       "      <td>27</td>\n",
       "      <td>102</td>\n",
       "      <td>...</td>\n",
       "      <td>41</td>\n",
       "      <td>4350</td>\n",
       "      <td>1273</td>\n",
       "      <td>100</td>\n",
       "      <td>530</td>\n",
       "      <td>965</td>\n",
       "      <td>138</td>\n",
       "      <td>168</td>\n",
       "      <td>0.978</td>\n",
       "      <td>3</td>\n",
       "    </tr>\n",
       "    <tr>\n",
       "      <th>4</th>\n",
       "      <td>1965</td>\n",
       "      <td>CAL</td>\n",
       "      <td>162</td>\n",
       "      <td>75</td>\n",
       "      <td>527</td>\n",
       "      <td>5354</td>\n",
       "      <td>1279</td>\n",
       "      <td>200</td>\n",
       "      <td>36</td>\n",
       "      <td>92</td>\n",
       "      <td>...</td>\n",
       "      <td>33</td>\n",
       "      <td>4323</td>\n",
       "      <td>1259</td>\n",
       "      <td>91</td>\n",
       "      <td>563</td>\n",
       "      <td>847</td>\n",
       "      <td>123</td>\n",
       "      <td>149</td>\n",
       "      <td>0.981</td>\n",
       "      <td>3</td>\n",
       "    </tr>\n",
       "  </tbody>\n",
       "</table>\n",
       "<p>5 rows × 30 columns</p>\n",
       "</div>"
      ],
      "text/plain": [
       "   yearID teamID    G   W    R    AB     H   2B  3B   HR    ...     SV IPouts  \\\n",
       "0    1961    LAA  162  70  744  5424  1331  218  22  189    ...     34   4314   \n",
       "1    1962    LAA  162  86  718  5499  1377  232  35  137    ...     47   4398   \n",
       "2    1963    LAA  161  70  597  5506  1378  208  38   95    ...     31   4365   \n",
       "3    1964    LAA  162  82  544  5362  1297  186  27  102    ...     41   4350   \n",
       "4    1965    CAL  162  75  527  5354  1279  200  36   92    ...     33   4323   \n",
       "\n",
       "     HA  HRA  BBA  SOA    E   DP     FP  Win_bins  \n",
       "0  1391  180  713  973  192  154  0.969         3  \n",
       "1  1412  118  616  858  175  153  0.972         3  \n",
       "2  1317  120  578  889  163  155  0.974         3  \n",
       "3  1273  100  530  965  138  168  0.978         3  \n",
       "4  1259   91  563  847  123  149  0.981         3  \n",
       "\n",
       "[5 rows x 30 columns]"
      ]
     },
     "execution_count": 23,
     "metadata": {},
     "output_type": "execute_result"
    }
   ],
   "source": [
    "#Creating Bins for ploting and understanding of the target \n",
    "\n",
    "## Binning for Continuous and categorical \n",
    "\n",
    "def assign_win_bins(W):\n",
    "    if W < 50:                    # Creating a bin value of 1 for wins amounting less than 50\n",
    "        return(1)\n",
    "    if W >= 50 and W <= 69:       # Creating a bin value of 2 for wins amounting less than 70 and greater than 50 \n",
    "        return(2)\n",
    "    if W >= 70 and W <= 89:       # Creating a bin value of 3 for wins amounting less than 90 and greater than 70\n",
    "        return(3)\n",
    "    if W >= 90 and W <= 109:      # Creating a bin value of 4 for wins amounting less than 110 and greater than 90\n",
    "        return(4)\n",
    "    if W >= 110:                  # Creating a bin value of 5 for wins amounting greater than 110\n",
    "        return(5)\n",
    "   \n",
    "df['Win_bins'] = df['W'].apply(assign_win_bins)  # Creating a new column Win_bins in the dataframe\n",
    "\n",
    "df.head()"
   ]
  },
  {
   "cell_type": "markdown",
   "metadata": {},
   "source": [
    "You probably already know that we need to look at the newly binned column (`Win_bins`). Instead of bar chart (distribution chart), we want to look at its values crossed by `Years`.\n",
    "\n",
    "Scatterplot is very suitable for that purpose.\n",
    "\n",
    "You will use the `scatter()` method to create the scatterplot. In the `scatter()` method: \n",
    "- __STEP1__: you need to first define two axis: `df['yearID']` and `df['W']`. __Note__ that we need the continuous value for the axis so that we use `df['W']` instead of `df['Win_bins]`;\n",
    "- __STEP2__: you need to define how to color your points by invoking the `c=` parameter. Here we want to color the data points by `df['Win_bins']`;\n",
    "- __STEP3__: As said above, we want to add title (`Win by Year Scatterplot`), x-axis label (`Years`), and y-axis label (`Wins`) to the scatterplot. __Hint__: as we did before, you can use `plt.title()` method to add title to your plot;\n",
    "- __STEP4__: Then you need to display your plot by calling the `show()` method.\n",
    "\n",
    "Use above logic to complete the code block below.\n"
   ]
  },
  {
   "cell_type": "code",
   "execution_count": 37,
   "metadata": {
    "collapsed": true
   },
   "outputs": [
    {
     "data": {
      "image/png": "[encoded data removed]",
      "text/plain": [
       "<Figure size 432x288 with 2 Axes>"
      ]
     },
     "metadata": {},
     "output_type": "display_data"
    }
   ],
   "source": [
    "#Scatter plot for the yearwise wins\n",
    "\n",
    "#### STEP 1 & 2\n",
    "plt.scatter(x=df['yearID'], y=df['W'], c=df['Win_bins'], s=10)\n",
    "\n",
    "#### STEP 3\n",
    "plt.title('Win by Year Scatterplot')\n",
    "plt.xlabel('Years')\n",
    "plt.ylabel('Wins')\n",
    "plt.colorbar()\n",
    "#### STEP 4\n",
    "plt.show()"
   ]
  },
  {
   "cell_type": "markdown",
   "metadata": {},
   "source": [
    "Looks like our binning is good - bins `[2, 3, 4]` capture the majority of data, while bins `[1, 5]` capture the extreme values (outliers).\n",
    "\n",
    "Let's save the processed data to a CSV file so that we can re-use it in part 2."
   ]
  },
  {
   "cell_type": "code",
   "execution_count": 25,
   "metadata": {
    "collapsed": true
   },
   "outputs": [],
   "source": [
    "df.to_csv('baseball_analytics_pt1.csv')"
   ]
  },
  {
   "cell_type": "markdown",
   "metadata": {},
   "source": [
    "That's all for part one. Please make sure your sync the complete notebook to your github repo for submission."
   ]
  },
  {
   "cell_type": "markdown",
   "metadata": {},
   "source": [
    "Kevin Hickey\n"
   ]
  },
  {
   "cell_type": "code",
   "execution_count": null,
   "metadata": {},
   "outputs": [],
   "source": []
  }
 ],
 "metadata": {
  "kernelspec": {
   "display_name": "Python 3",
   "language": "python",
   "name": "python3"
  },
  "language_info": {
   "codemirror_mode": {
    "name": "ipython",
    "version": 3
   },
   "file_extension": ".py",
   "mimetype": "text/x-python",
   "name": "python",
   "nbconvert_exporter": "python",
   "pygments_lexer": "ipython3",
   "version": "3.6.5"
  }
 },
 "nbformat": 4,
 "nbformat_minor": 2
}
